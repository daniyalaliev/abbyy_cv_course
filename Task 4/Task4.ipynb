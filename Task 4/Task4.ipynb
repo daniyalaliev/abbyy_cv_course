{
 "cells": [
  {
   "cell_type": "code",
   "execution_count": 1,
   "metadata": {},
   "outputs": [],
   "source": [
    "import cv2\n",
    "import numpy as np\n",
    "from skimage.util import random_noise\n",
    "from tqdm.notebook import tqdm\n",
    "import os"
   ]
  },
  {
   "cell_type": "code",
   "execution_count": 2,
   "metadata": {},
   "outputs": [],
   "source": [
    "# эффект бумаги\n",
    "\n",
    "BG_COLOR = 209\n",
    "BG_SIGMA = 5\n",
    "CHANNELS = 3\n",
    "\n",
    "\n",
    "def blank_image(width=1024, height=1024, background=BG_COLOR):\n",
    "    img = np.full((height, width, CHANNELS), background, np.uint8)\n",
    "    return img\n",
    "\n",
    "\n",
    "def add_noise(img, sigma=BG_SIGMA):\n",
    "\n",
    "    width, height, ch = img.shape\n",
    "    n = noise(width, height, sigma=sigma)\n",
    "    img = img + n\n",
    "    return img.clip(0, 255)\n",
    "\n",
    "\n",
    "def noise(width, height, ratio=1, sigma=BG_SIGMA):\n",
    "\n",
    "    mean = 0\n",
    "    h = int(height / ratio)\n",
    "    w = int(width / ratio)\n",
    "\n",
    "    result = np.random.normal(mean, sigma, (w, h, CHANNELS))\n",
    "    if ratio > 1:\n",
    "        result = cv2.resize(result, dsize=(width, height), interpolation=cv2.INTER_LINEAR)\n",
    "    return result.reshape((width, height, CHANNELS))\n",
    "\n",
    "\n",
    "def texture(image, sigma=BG_SIGMA, turbulence=2):\n",
    "    result = image.astype(float)\n",
    "    cols, rows, ch = image.shape\n",
    "    ratio = cols\n",
    "    while not ratio == 1:\n",
    "        result += noise(cols, rows, ratio, sigma=sigma)\n",
    "        ratio = (ratio // turbulence) or 1\n",
    "    cut = np.clip(result, 0, 255)\n",
    "    return cut.astype(np.uint8)\n",
    "\n",
    "def get_paper(colour = 230):\n",
    "    return add_noise(texture(blank_image(4096, 4096, colour)))"
   ]
  },
  {
   "cell_type": "code",
   "execution_count": 3,
   "metadata": {},
   "outputs": [],
   "source": [
    "def put_image_on_paper(img, bg):\n",
    "    mask = np.zeros_like(img)\n",
    "    mask[:, :, 0] = mask[:, :, 1] = mask[:, :, 2] = (img[:, :, 0] == 255) * (img[:, :, 1] == 255) * (img[:, :, 2] == 255)\n",
    "    mask = mask.astype(bool)\n",
    "    return bg[:img.shape[0], :img.shape[1]] * mask + img * ~mask\n",
    "\n",
    "def put_image_on_background(img, bg):\n",
    "    mask = np.zeros_like(img)\n",
    "    mask[:, :, 0] = mask[:, :, 1] = mask[:, :, 2] = (img[:, :, 0] == 1) * (img[:, :, 1] == 1) * (img[:, :, 2] == 1)\n",
    "    mask = mask.astype(bool)\n",
    "    return bg * mask + img * ~mask"
   ]
  },
  {
   "cell_type": "code",
   "execution_count": 4,
   "metadata": {},
   "outputs": [],
   "source": [
    "# дефект печати\n",
    "def print_defect(img):\n",
    "    shifted_rows = np.random.binomial(1, 0.01, img.shape[0])\n",
    "    for i in range(img.shape[0]):\n",
    "        if shifted_rows[i] == 1:\n",
    "            shift = np.random.randint(-25, 25)\n",
    "            new_row = np.zeros_like(img[i])\n",
    "            if shift > 0:\n",
    "                new_row[shift:] = img[i][:-shift]\n",
    "            elif shift < 0:\n",
    "                new_row[:shift] = img[i][-shift:]\n",
    "            else:\n",
    "                new_row = img[i]\n",
    "            img[i] = new_row\n",
    "    return img"
   ]
  },
  {
   "cell_type": "code",
   "execution_count": 5,
   "metadata": {},
   "outputs": [],
   "source": [
    "# стандартные преобразования\n",
    "def channel_shift(img, value = 60):\n",
    "    value = int(np.random.uniform(-value, value))\n",
    "    img = img + value\n",
    "    img[:,:,:][img[:,:,:]>255]  = 255\n",
    "    img[:,:,:][img[:,:,:]<0]  = 0\n",
    "    img = img.astype(np.uint8)\n",
    "    return img\n",
    "\n",
    "def rotation(img, angle = 45):\n",
    "    angle = int(np.random.uniform(-angle, angle))\n",
    "    h, w = img.shape[:2]\n",
    "    M = cv2.getRotationMatrix2D((int(w/2), int(h/2)), angle, 1)\n",
    "    img = cv2.warpAffine(img, M, (w, h), borderValue = (1, 1, 1))\n",
    "    return img\n",
    "\n",
    "def translation(img, shift = 500):\n",
    "    w_shift = int(np.random.uniform(-shift, shift))\n",
    "    h_shift = int(np.random.uniform(-shift, shift))\n",
    "    h, w = img.shape[:2]\n",
    "    M = np.array([[1, 0, w_shift], [0, 1, h_shift]], dtype=np.float32)\n",
    "\n",
    "    img = cv2.warpAffine(img, M, (w, h), borderValue = (1, 1, 1))\n",
    "    return img\n",
    "\n",
    "def blur(img, shape = 10):\n",
    "    kern = np.random.randint(1, shape)\n",
    "    return cv2.blur(img, (kern, kern))\n",
    "\n",
    "def resize(img, scale_percent = 100):\n",
    "    width = int(img.shape[1] * scale_percent / 100)\n",
    "    height = int(img.shape[0] * scale_percent / 100)\n",
    "    dim = (width, height)\n",
    "    \n",
    "    img = cv2.resize(img, dim, interpolation = cv2.INTER_AREA)\n",
    "    return img"
   ]
  },
  {
   "cell_type": "code",
   "execution_count": 8,
   "metadata": {},
   "outputs": [],
   "source": [
    "def make_augmentations(img):\n",
    "    bg = resize(cv2.imread('Backgrounds/bg' + str(np.random.randint(1, 5)) + '.png'), 200)\n",
    "    new_img = resize(img, np.random.randint(30, 65))\n",
    "    new_img = print_defect(put_image_on_paper(new_img, paper))\n",
    "    trick = np.ones_like(bg)\n",
    "    trick[500:500 + new_img.shape[0], 500:500 + new_img.shape[1]] = new_img\n",
    "    new_img = translation(rotation(trick))\n",
    "    return blur(put_image_on_background(new_img, bg))"
   ]
  },
  {
   "cell_type": "code",
   "execution_count": null,
   "metadata": {},
   "outputs": [],
   "source": [
    "paper = get_paper()"
   ]
  },
  {
   "cell_type": "code",
   "execution_count": 9,
   "metadata": {},
   "outputs": [
    {
     "data": {
      "application/vnd.jupyter.widget-view+json": {
       "model_id": "1556a986c0a245aca9bae1f9e7c39bdc",
       "version_major": 2,
       "version_minor": 0
      },
      "text/plain": [
       "HBox(children=(HTML(value=''), FloatProgress(value=0.0, max=10.0), HTML(value='')))"
      ]
     },
     "metadata": {},
     "output_type": "display_data"
    },
    {
     "name": "stdout",
     "output_type": "stream",
     "text": [
      "\n"
     ]
    }
   ],
   "source": [
    "for file in tqdm(os.listdir('Data/')):\n",
    "    img = cv2.imread('Data/' + file)\n",
    "    for i in range(10):\n",
    "        cv2.imwrite('Result/' + file[:-4]+ '_' + str(i) + '.png', make_augmentations(img))"
   ]
  }
 ],
 "metadata": {
  "kernelspec": {
   "display_name": "Python 3",
   "language": "python",
   "name": "python3"
  },
  "language_info": {
   "codemirror_mode": {
    "name": "ipython",
    "version": 3
   },
   "file_extension": ".py",
   "mimetype": "text/x-python",
   "name": "python",
   "nbconvert_exporter": "python",
   "pygments_lexer": "ipython3",
   "version": "3.8.5"
  }
 },
 "nbformat": 4,
 "nbformat_minor": 4
}
