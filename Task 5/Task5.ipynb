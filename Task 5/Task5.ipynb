{
 "cells": [
  {
   "cell_type": "code",
   "execution_count": 1,
   "metadata": {},
   "outputs": [],
   "source": [
    "import os\n",
    "import cv2 as cv\n",
    "import numpy as np\n",
    "from time import time\n",
    "import matplotlib.pyplot as plt"
   ]
  },
  {
   "cell_type": "code",
   "execution_count": 2,
   "metadata": {},
   "outputs": [],
   "source": [
    "images = []\n",
    "for file in os.listdir(\"images\"):\n",
    "    image = cv.imread(\"images/\" + file)\n",
    "    images.append(image)"
   ]
  },
  {
   "cell_type": "code",
   "execution_count": 3,
   "metadata": {},
   "outputs": [],
   "source": [
    "def get_harris_corners(img):\n",
    "    gray = cv.cvtColor(img,cv.COLOR_BGR2GRAY)\n",
    "    gray = np.float32(gray)\n",
    "    dst = cv.cornerHarris(gray,2,3,0.2)\n",
    "    dst = cv.dilate(dst,None)\n",
    "    kps = (dst > 0.01 * dst.max()).nonzero()\n",
    "    return np.transpose(dst[kps]), len(np.transpose(kps))\n",
    "\n",
    "def get_sift_features(img):\n",
    "    descriptor = cv.SIFT_create()\n",
    "    (kps, features) = descriptor.detectAndCompute(img, None)\n",
    "    return features, len(kps)\n",
    "\n",
    "def get_orb_features(img):\n",
    "    descriptor = cv.ORB_create()\n",
    "    (kps, features) = descriptor.detectAndCompute(img, None)\n",
    "    return features, len(kps)"
   ]
  },
  {
   "cell_type": "code",
   "execution_count": 4,
   "metadata": {},
   "outputs": [],
   "source": [
    "def get_images_features(images, method):\n",
    "    images_features = [] \n",
    "    all_kps_len = 0\n",
    "    for img in images:\n",
    "        features, kps_len = method(img)\n",
    "        images_features.append(features)\n",
    "        all_kps_len += kps_len\n",
    "    return images_features, all_kps_len"
   ]
  },
  {
   "cell_type": "code",
   "execution_count": 5,
   "metadata": {},
   "outputs": [
    {
     "name": "stdout",
     "output_type": "stream",
     "text": [
      "Среднее время Harris: 0.001607 мсек/точка\n"
     ]
    }
   ],
   "source": [
    "t1 = time()\n",
    "harris_features, kps_len = get_images_features(images, get_harris_corners)\n",
    "t2 = time()\n",
    "print(f'Среднее время Harris: {np.round((t2 - t1) / kps_len * 1000, 6)} мсек/точка')"
   ]
  },
  {
   "cell_type": "code",
   "execution_count": 6,
   "metadata": {},
   "outputs": [
    {
     "name": "stdout",
     "output_type": "stream",
     "text": [
      "Среднее время SIFT: 0.042342 мсек/точка\n"
     ]
    }
   ],
   "source": [
    "t1 = time()\n",
    "sift_features, kps_len = get_images_features(images, get_sift_features)\n",
    "t2 = time()\n",
    "print(f'Среднее время SIFT: {np.round((t2 - t1) / kps_len * 1000, 6)} мсек/точка')"
   ]
  },
  {
   "cell_type": "code",
   "execution_count": 7,
   "metadata": {},
   "outputs": [
    {
     "name": "stdout",
     "output_type": "stream",
     "text": [
      "Среднее время ORB: 0.040068 мсек/точка\n"
     ]
    }
   ],
   "source": [
    "t1 = time()\n",
    "orb_features, kps_len = get_images_features(images, get_orb_features)\n",
    "t2 = time()\n",
    "print(f'Среднее время ORB: {np.round((t2 - t1) / kps_len * 1000, 6)} мсек/точка')"
   ]
  },
  {
   "cell_type": "code",
   "execution_count": 8,
   "metadata": {},
   "outputs": [],
   "source": [
    "def get_repeatability(features, norm=cv.NORM_L2):   \n",
    "    bruteforce = cv.BFMatcher(norm, crossCheck=True)\n",
    "    repeatabilities = []\n",
    "    for i, features1 in enumerate(features):\n",
    "        repeats_count = np.zeros(len(features1))\n",
    "        for j, features2 in enumerate(features):\n",
    "            if i != j:\n",
    "                matches = bruteforce.match(features1, features2)\n",
    "                for match in matches:\n",
    "                    repeats_count[match.queryIdx] += 1\n",
    "        repeatability = (repeats_count / (len(features) - 1)).mean()\n",
    "        repeatabilities.append(repeatability)\n",
    "    return repeatabilities"
   ]
  },
  {
   "cell_type": "code",
   "execution_count": 9,
   "metadata": {},
   "outputs": [],
   "source": [
    "harris_repeatabilities = get_repeatability(harris_features)\n",
    "sift_repeatabilities = get_repeatability(sift_features)\n",
    "orb_repeatabilities = get_repeatability(orb_features, cv.NORM_HAMMING)"
   ]
  },
  {
   "cell_type": "code",
   "execution_count": 10,
   "metadata": {},
   "outputs": [
    {
     "data": {
      "image/png": "[encoded data removed]",
      "text/plain": [
       "<Figure size 1080x576 with 1 Axes>"
      ]
     },
     "metadata": {
      "needs_background": "light"
     },
     "output_type": "display_data"
    }
   ],
   "source": [
    "plt.figure(figsize=(15, 8))\n",
    "plt.title('Возпроизводимости')\n",
    "plt.plot(harris_repeatabilities, label='Harris')\n",
    "plt.plot(sift_repeatabilities, label='SIFT')\n",
    "plt.plot(orb_repeatabilities, label='ORB')\n",
    "\n",
    "plt.xlabel(\"Изображение\")\n",
    "plt.ylabel(\"Возпроизводимость\")\n",
    "plt.legend()\n",
    "plt.show()"
   ]
  },
  {
   "cell_type": "markdown",
   "metadata": {},
   "source": [
    "***Вывод:***\n",
    "\n",
    "Детектор SIFT на данных изображениях показывает наиболее хороший результат воспроизводимости, чем Harris и ORB. Однако, Harris является самым быстрым, хоть и имеет наихудшую воспроизводимость."
   ]
  },
  {
   "cell_type": "code",
   "execution_count": null,
   "metadata": {},
   "outputs": [],
   "source": []
  }
 ],
 "metadata": {
  "kernelspec": {
   "display_name": "Python 3",
   "language": "python",
   "name": "python3"
  },
  "language_info": {
   "codemirror_mode": {
    "name": "ipython",
    "version": 3
   },
   "file_extension": ".py",
   "mimetype": "text/x-python",
   "name": "python",
   "nbconvert_exporter": "python",
   "pygments_lexer": "ipython3",
   "version": "3.8.5"
  }
 },
 "nbformat": 4,
 "nbformat_minor": 5
}
