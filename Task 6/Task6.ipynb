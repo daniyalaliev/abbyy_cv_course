{
 "cells": [
  {
   "cell_type": "code",
   "execution_count": 1,
   "id": "9d0d3c14",
   "metadata": {},
   "outputs": [],
   "source": [
    "import os\n",
    "import numpy as np\n",
    "import cv2\n",
    "import matplotlib.pyplot as plt\n",
    "from tqdm.notebook import tqdm\n",
    "from time import time"
   ]
  },
  {
   "cell_type": "markdown",
   "id": "48e741ef",
   "metadata": {},
   "source": [
    "## Идея\n",
    "\n",
    "В QR-коде finder-pattern'ы - 3 квадратика в углах - имеют фиксированное отношение сторон - 7:5:3, соответственно, и площади этих квадратов будут иметь соотношение 49:25:9. Тогда для нахождения необходимых finder pattern'ов будем обрабатывать изображение с помощью различных фильтров, хатем выделять все границы, после чего отсечем те наборы контуров, которые представляют собой 4 вложенных друг в друга области с отношением площадей трех из них -  49:25:9 с некоторой погрешностью."
   ]
  },
  {
   "cell_type": "code",
   "execution_count": 2,
   "id": "a44c1226",
   "metadata": {},
   "outputs": [],
   "source": [
    "AREA_1 = 49\n",
    "AREA_2 = 25\n",
    "AREA_3 = 9\n",
    "\n",
    "\n",
    "def are_area_proportions_correct(areas, threshold_rate):\n",
    "    # Проверка площадей на правильное отношение\n",
    "    outer_black_area = areas[0]\n",
    "    for i, inner_white_area in enumerate(areas[1:-1]):\n",
    "        for inner_black_area in areas[i+1:]:\n",
    "            is_ratio_1 = np.abs(outer_black_area / inner_white_area - AREA_1 / AREA_2) < (AREA_1 / AREA_2) * threshold_rate\n",
    "            is_ratio_2 = np.abs(outer_black_area / inner_black_area - AREA_1 / AREA_3) < (AREA_1 / AREA_3) * threshold_rate\n",
    "            if is_ratio_1 and is_ratio_2:\n",
    "                    return True\n",
    "    return False\n",
    "\n",
    "def process_image(image):\n",
    "    # Предобработка картинки\n",
    "    grey_image = cv2.cvtColor(image, cv2.COLOR_BGR2GRAY)\n",
    "    grey_image = cv2.GaussianBlur(grey_image, (7, 7), 0)\n",
    "    grey_image= cv2.adaptiveThreshold(grey_image, 255, cv2.ADAPTIVE_THRESH_GAUSSIAN_C, cv2.THRESH_BINARY, 11, 2)\n",
    "    grey_image = cv2.morphologyEx(grey_image, cv2.MORPH_CLOSE, np.ones((4, 4), np.uint8))\n",
    "    grey_image = cv2.erode(grey_image, np.ones((3, 3)), iterations=1)\n",
    "    return grey_image\n",
    "\n",
    "def get_edges(grey_image):\n",
    "    # Выделение границ\n",
    "    edges = cv2.Canny(grey_image, 80, 110)\n",
    "    edges = (edges != 0).astype(np.uint8)\n",
    "    edges = cv2.dilate(edges, np.ones((3, 3)))\n",
    "    return edges\n",
    "\n",
    "def get_finder_pattern_contours(contours, hierarchy):\n",
    "    # Поиск среди всех контуров подходящих\n",
    "    processed_contours_total = set()\n",
    "    finder_pattern_contours = []\n",
    "    for i, contour in enumerate(contours):\n",
    "        if i in processed_contours_total:\n",
    "            continue\n",
    "            \n",
    "        areas = []\n",
    "        processed_contours = set()\n",
    "        \n",
    "        j = i\n",
    "        while hierarchy[j][2] != -1:\n",
    "            areas.append(cv2.contourArea(contours[j]))\n",
    "            processed_contours.add(j)\n",
    "            j = hierarchy[j][2]\n",
    "            \n",
    "        if 3 < len(areas) < 7:\n",
    "            if are_area_proportions_correct(areas, 0.3):\n",
    "                finder_pattern_contours.append(contour)\n",
    "                processed_contours_total.union(processed_contours)\n",
    "                \n",
    "    return finder_pattern_contours"
   ]
  },
  {
   "cell_type": "markdown",
   "id": "51c56d65",
   "metadata": {},
   "source": [
    "## Итоговый запуск"
   ]
  },
  {
   "cell_type": "code",
   "execution_count": 3,
   "id": "7dfa696f",
   "metadata": {},
   "outputs": [],
   "source": [
    "def finder_pattern_detector(input_folder=\"TestSet1\", output_folder=\"result1\"):\n",
    "    start = time()\n",
    "    for image_name in tqdm(os.listdir(input_folder)):\n",
    "        image = cv2.imread(input_folder + '/' + image_name)\n",
    "        \n",
    "        grey_image = process_image(image)\n",
    "        \n",
    "        edges = get_edges(grey_image)\n",
    "        \n",
    "        contours, hierarchy = cv2.findContours(edges, cv2.RETR_TREE, cv2.CHAIN_APPROX_SIMPLE)\n",
    "        finder_pattern_contours = get_finder_pattern_contours(contours, hierarchy[0])\n",
    "        \n",
    "        cv2.drawContours(image, finder_pattern_contours, -1, (0, 0, 255), 6)\n",
    "        cv2.imwrite(output_folder + '/' + image_name, image)\n",
    "    print(\"Затраченное время на одну картинку - {:.3f} секунд\".format((time() - start) / len(os.listdir(input_folder))))"
   ]
  },
  {
   "cell_type": "code",
   "execution_count": 4,
   "id": "fdd194a7",
   "metadata": {},
   "outputs": [
    {
     "data": {
      "application/vnd.jupyter.widget-view+json": {
       "model_id": "a3bbc5920f0f4310906b0d76f2b4c951",
       "version_major": 2,
       "version_minor": 0
      },
      "text/plain": [
       "HBox(children=(FloatProgress(value=0.0, max=47.0), HTML(value='')))"
      ]
     },
     "metadata": {},
     "output_type": "display_data"
    },
    {
     "name": "stdout",
     "output_type": "stream",
     "text": [
      "\n",
      "Затраченное время на одну картинку - 0.349 секунд\n"
     ]
    },
    {
     "data": {
      "application/vnd.jupyter.widget-view+json": {
       "model_id": "fcef3277b14f47b88af1b055c7135b12",
       "version_major": 2,
       "version_minor": 0
      },
      "text/plain": [
       "HBox(children=(FloatProgress(value=0.0, max=48.0), HTML(value='')))"
      ]
     },
     "metadata": {},
     "output_type": "display_data"
    },
    {
     "name": "stdout",
     "output_type": "stream",
     "text": [
      "\n",
      "Затраченное время на одну картинку - 0.381 секунд\n"
     ]
    }
   ],
   "source": [
    "finder_pattern_detector(\"TestSet1/\", \"Result1\")\n",
    "finder_pattern_detector(\"TestSet2/\", \"Result2\")"
   ]
  },
  {
   "cell_type": "markdown",
   "id": "451f0ad6",
   "metadata": {},
   "source": [
    "## Результаты\n",
    "Будем считать, что выделение внутренней границы внешнего квадрата - неверный ответ, тогда метрики получаются следующие:\n",
    "* TestSet1 - Precision: 0.72 Recall: 0.70\n",
    "* TestSet2 - Precision: 0.73 Recall: 0.69"
   ]
  }
 ],
 "metadata": {
  "kernelspec": {
   "display_name": "Python 3",
   "language": "python",
   "name": "python3"
  },
  "language_info": {
   "codemirror_mode": {
    "name": "ipython",
    "version": 3
   },
   "file_extension": ".py",
   "mimetype": "text/x-python",
   "name": "python",
   "nbconvert_exporter": "python",
   "pygments_lexer": "ipython3",
   "version": "3.6.9"
  }
 },
 "nbformat": 4,
 "nbformat_minor": 5
}
